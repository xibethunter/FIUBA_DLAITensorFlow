{
 "cells": [
  {
   "cell_type": "markdown",
   "metadata": {},
   "source": [
    "# **TENSORFLOW DEVELOPER PROFESSIONAL CERTIFICATE**\n",
    "# Curso 1: Introduction to TensorFlow for Artificial Intelligence, Machine Learning, and Deep Learning\n",
    "# Semana 1: A New Programming Paradigm\n",
    "\n",
    "*Esta notebook plasma los apuntes traducidos al español del Curso dicatado por [DeepLearning.AI](https://www.deeplearning.ai/courses/), por lo que puede encontrar errores. Las figuras y ecuaciones se han obtenido/adaptado directamente de las diapositivas utilizadas en el curso. Todo el mérito es de los instructores. Simplemente espero que los apuntes sirvan como material de estudio complementario.*"
   ]
  },
  {
   "cell_type": "markdown",
   "metadata": {},
   "source": [
    "## A NEW PROGRAMMING PARADIGM"
   ]
  },
  {
   "cell_type": "markdown",
   "metadata": {},
   "source": [
    "### Introduction: A conversation with Andrew Ng"
   ]
  },
  {
   "cell_type": "markdown",
   "metadata": {},
   "source": [
    "Bienvenido a TensorFlow, de lo básico a lo avanzado. Quizás ya has tomado [aprendizaje profundo](https://www.coursera.org/specializations/deep-learning?specialization=tensorflow-in-practice) o [aprendizaje automático](https://www.coursera.org/specializations/machine-learning-introduction?specialization=tensorflow-in-practice) conmigo y sabes las cosas increíbles que se pueden hacer con aprendizaje profundo, aprendizaje automático. \n",
    "\n",
    "Una de las mejores herramientas que puedes usar para implementar estos algoritmos es TensorFlow. Aprender algoritmos puede ser un poco complicado. Pero hay marcos de programación (Framework) como TensorFlow, PyTorch, Caffe y muchos otros que ahorran tiempo. Estas herramientas pueden ser complicadas y lo que estos cursos te enseñan es como usar TensorFlow eficazmente. Con el fin de enseñar gran parte de estos cursos estoy encantado de presentar a Laurence Moroney. Él es un desarrollador en Google y ha estado trabajando con Google AI y TensorFlow. Lawrence también ha escrito más de 30 libros de programación e incluso cuatro novelas de ciencia ficción. \n",
    "\n",
    "Así es, he estado ocupado. Disfruto mucho escribir, pero lo que más disfruto es aprender y enseñar AI. De hecho, he aprendido de las especializaciones que mencionaste y de tus cursos. Por lo que es realmente un honor estar aquí contigo. Definitivamente, soy tu fan. Por eso me interesé en AI, es una larga historia. Empecé con AI hace muchos años, cuando eran cosas como Prolog, Lisp y todo eso. Pero ahora estamos mas en aprendizaje automático, aprendizaje profundo con redes neuronales, necesitaba un lugar donde aprender y de hecho lo aprendí de tus cursos, así que ha sido emocionante cerrar el círculo completo y enseñarlo ahora también.\n",
    "\n",
    "¿Dónde está la industria en este momento? Esa es una de las cosas que me emociona, porque está explotando. Está el aprendizaje profundo y aprendizaje automático. Estas habilidades están ganando importancia y abriendo nuevos escenarios. Algo extraño y emocionante de aprendizaje automático y AI es que ya no es solo algo técnico limitado a la industria de software. Todas las industrias deben involucrarse. \n",
    "\n",
    "Sí, es emocionante desde la perspectiva del desarrollador porque hay un nuevo paradigma que, para mí, está abriendo escenarios que no eran posibles previamente, cosas que eran muy complicadas de programar. Siempre que llega un nuevo paradigma, viene con nuevas herramientas que pueden abrir nuevos escenarios, y eso abre nuevas oportunidades. \n",
    "\n",
    "Sí, y creo que algo trágico hoy es que, a pesar de que todo el mundo ve las promesas y la esperanza en esa capacidad de aprendizaje automático AI que cambia tantas cosas, el mundo hoy simplemente no tiene suficientes desarrolladores AI. \n",
    "\n",
    "Exactamente. He visto encuestas de 25, 26 millones de desarrolladores de software y quizás 300 mil AI practicantes. Parte de mi pasión personal es tratar de convertir a esos 24.7 que no son AI practicantes —o un parte significativa de ellos—, en personas que entiendan AI y que puedan construir las nuevas y emocionantes cosas que ahora ni imaginamos.\n",
    "\n",
    "Así que si terminas estos cursos y aprendes a codificar en TensorFlow, idealmente te ayudará con esa emocionante tarea y tal vez te conviertas en un desarrollador AI. En el siguiente video escucharás a Lawrence hablar de las diferencias entre paradigmas de programación tradicional vs. paradigmas de aprendizaje automático y de programación de aprendizaje profundo. También escucharás sobre cómo adaptar la relación de datos de X a Y, cómo adaptar una línea recta a los datos. Por favor continua con el siguiente video."
   ]
  },
  {
   "cell_type": "markdown",
   "metadata": {},
   "source": [
    "### Where to find the notebooks for this course"
   ]
  },
  {
   "cell_type": "markdown",
   "metadata": {},
   "source": [
    "Todos los cuadernos de este curso se pueden ejecutar en Google Colab o en Coursera Labs. No necesitas un entorno local configurado para seguir los ejercicios de codificación. Puedes simplemente hacer clic en la insignia de Abrir en Colab en la parte superior de los laboratorios no calificados, mientras que para las tareas, serás llevado automáticamente a Coursera Labs. \n",
    "\n",
    "Sin embargo, si quieres ejecutarlos en tu máquina local, los laboratorios sin calificar y las tareas de cada semana se pueden encontrar en este [repositorio de Github](https://github.com/https-deeplearning-ai/tensorflow-1-public) bajo la carpeta C1. Si ya tienes git instalado en tu ordenador, puedes clonarlo con este comando\n",
    "\n",
    "git clone https://github.com/https-deeplearning-ai/tensorflow-1-public\n",
    "\n",
    "Si no es así, sigue las guías aquí para instalar git en tu sistema operativo. Una vez que hayas clonado el repo, puedes hacer un git pull de vez en cuando para asegurarte de que obtienes las últimas actualizaciones de los cuadernos.\n",
    "\n",
    "Necesitarás estos paquetes si vas a ejecutar los cuadernos localmente:\n",
    "\n",
    "```Python\n",
    "    tensorflow==2.7.0\n",
    "    scikit-learn==1.0.1\n",
    "    pandas==1.1.5\n",
    "    matplotlib==3.2.2\n",
    "    seaborn==0.11.2\n",
    "```\n",
    "\n",
    "> **Para ver las colab en español se puede visitar o clonar este [repositorio Hithub](https://github.com/IngCarlaPezzone/tensorflow-1-public.git).**\n",
    "> Este es el repositorio forkeado del curso (Sep/2022) al que le fui agregando copia de cada notebook con la traducción al español. Todos los creditos son a los autores."
   ]
  },
  {
   "cell_type": "markdown",
   "metadata": {},
   "source": [
    "### A primer in machine learning"
   ]
  },
  {
   "cell_type": "markdown",
   "metadata": {},
   "source": [
    "<figure>\n",
    " <img align=\"right\", src=\"./imagenes/C1_W1_Página_02.jpg\"   style=\"width:400px;height:224px;\" >\n",
    "</figure>\n",
    "\n",
    "La programación ha sido el pan de cada día para los desarrolladores desde los albores de la informática. Estamos acostumbrados a crear aplicaciones descomponiendo los requisitos en problemas parciales que entonces pueden ser programados. \n",
    "\n",
    "Por ejemplo, si tenemos que escribir una aplicación que resuelva un analítico de valores, tal vez el precio dividido por la relación, generalmente podemos escribir un programa para obtener los valores a partir de una fuente de datos, hacer el cálculo y devolver el resultado. \n",
    "\n",
    "<figure>\n",
    " <img align=\"right\", src=\"./imagenes/C1_W1_Página_03.jpg\"   style=\"width:400px;height:224px;\" >\n",
    "</figure>\n",
    "\n",
    "O si estamos escribiendo un juego generalmente podemos seguir las reglas. Por ejemplo, si la bola golpea el ladrillo entonces el ladrillo debe desaparecer y la bola debe rebotar. Pero si la pelota cae fuera de la parte inferior de la pantalla entonces tal vez el jugador pierde su vida. "
   ]
  },
  {
   "cell_type": "markdown",
   "metadata": {},
   "source": [
    "<figure>\n",
    " <img align=\"right\", src=\"./imagenes/C1_W1_Página_04.jpg\"   style=\"width:400px;height:224px;\" >\n",
    "</figure>\n",
    "\n",
    "Podemos representarlo con este diagrama. Las reglas y los datos entran y las respuestas salen. Las reglas se expresan en un lenguaje de programación, los datos pueden provenir de una variedad de fuentes de variables locales hasta de bases de datos. \n",
    "\n",
    "<figure>\n",
    " <img align=\"right\", src=\"./imagenes/C1_W1_Página_05.jpg\"   style=\"width:400px;height:224px;\" >\n",
    "</figure>\n",
    "\n",
    "El aprendizaje automático reorganiza este diagrama aquí ponemos respuestas y datos entrando y salen las reglas. En lugar de ser nosotros, como desarrolladores, los que averiguamos las reglas de cuándo debe desaparecer el ladrillo, cuándo debe terminar la vida del jugador, o cuál es el analítico deseado para cualquier otro concepto, lo que haremos es conseguir un montón de ejemplos de lo que queremos ver y entonces el computador averigua las reglas. Esto es particularmente valioso para los problemas que no se pueden resolver averiguando las reglas tú mismo. "
   ]
  },
  {
   "cell_type": "markdown",
   "metadata": {},
   "source": [
    "<figure>\n",
    " <img align=\"right\", src=\"./imagenes/C1_W1_Página_06.jpg\"   style=\"width:400px;height:224px;\" >\n",
    "</figure>\n",
    "\n",
    "Considera este ejemplo, de reconocimiento de actividad. Si estoy construyendo un dispositivo que detecta si alguien, digamos camina y tengo datos de su velocidad, podría escribir un código como este."
   ]
  },
  {
   "cell_type": "markdown",
   "metadata": {},
   "source": [
    "<figure>\n",
    " <img align=\"right\", src=\"./imagenes/C1_W1_Página_07.jpg\"   style=\"width:400px;height:224px;\" >\n",
    "</figure>\n",
    "\n",
    "Y si está corriendo, a una velocidad más rápida podría adaptar mi código a esto. "
   ]
  },
  {
   "cell_type": "markdown",
   "metadata": {},
   "source": [
    "<figure>\n",
    " <img align=\"right\", src=\"./imagenes/C1_W1_Página_08.jpg\"   style=\"width:400px;height:224px;\" >\n",
    "</figure>\n",
    "\n",
    "Y si está montando en bicicleta, eso tampoco es tan malo. Puedo adaptar mi código así. "
   ]
  },
  {
   "cell_type": "markdown",
   "metadata": {},
   "source": [
    "<figure>\n",
    " <img align=\"right\", src=\"./imagenes/C1_W1_Página_09.jpg\"   style=\"width:400px;height:224px;\" >\n",
    "</figure>\n",
    "\n",
    "Pero luego tengo que hacer reconocimiento de golf también y mi concepto se viene abajo. Pero no sólo eso, hacerlo solamente por velocidad por supuesto es bastante ingenuo. Caminamos y corremos a diferentes velocidades cuesta arriba y cuesta abajo y otras personas caminan y corren a velocidades diferentes a nosotros. "
   ]
  },
  {
   "cell_type": "markdown",
   "metadata": {},
   "source": [
    "<figure>\n",
    " <img align=\"right\", src=\"./imagenes/C1_W1_Página_10.jpg\"   style=\"width:400px;height:224px;\" >\n",
    "</figure>\n",
    "\n",
    "Volvamos a este diagrama. En definitiva el aprendizaje automático es muy similar, pero sólo estamos volteando los ejes. En vez de tratar de expresar el problema como reglas cuando a menudo eso ni siquiera es posible, Tengo que llegar a un compromiso. \n",
    "\n",
    "El nuevo paradigma es que tengo montones y montones de ejemplos y tengo etiquetas de esos ejemplos y uso los datos para decir esto es caminar, esto es correr, esto es andar en bicicleta y sí, incluso esto es jugar al golf. \n",
    "\n",
    "<figure>\n",
    " <img align=\"right\", src=\"./imagenes/C1_W1_Página_11.jpg\"   style=\"width:400px;height:224px;\" >\n",
    "</figure>\n",
    "\n",
    "Entonces se convierte en respuestas y datos entrando con reglas de siendo inferidas por la máquina. Un algoritmo de aprendizaje automático averigua los patrones específicos de cada conjunto de datos que determina el carácter distintivo de cada uno. \n",
    "\n",
    "Eso es lo que es tan poderoso y emocionante sobre este paradigma de programación. Es más que solo una nueva forma de hacer lo mismo de siempre. Abre nuevas posibilidades que no eran viables de hacer antes. En los próximos minutos, voy a mostrarte los fundamentos de la creación de una red neuronal que es el caballo de batalla para hacer este reconocimiento de patrones. \n",
    "\n",
    "Una red neuronal es sólo una implementación ligeramente más avanzada de aprendizaje automático que llamamos aprendizaje profundo. Pero afortunadamente es realmente muy fácil de programar. Vamos a saltar directamente al aprendizaje profundo. Comenzaremos con uno sencillo y luego nos trasladaremos a uno que hace visión por computador en unas 10 líneas de código. Vamos a empezar con un ejemplo muy sencillo de \"Hola mundo\". Puedes ver cómo todo se mantiene unido."
   ]
  },
  {
   "cell_type": "markdown",
   "metadata": {},
   "source": [
    "### The ‘Hello World’ of neural networks"
   ]
  },
  {
   "cell_type": "markdown",
   "metadata": {},
   "source": [
    "Anteriormente mencionamos que el aprendizaje automático trata de un computador aprendiendo patrones que distinguen cosas. Como para el reconocimiento de actividades era el patrón caminar, correr y andar en bicicleta que pueden ser aprendidos a partir de varios sensores de un equipo. Para demostrar cómo funciona veamos un conjunto de números y veamos si puedes determinar un patrón entre ellos. \n",
    "\n",
    "<figure>\n",
    " <img align=\"right\", src=\"./imagenes/C1_W1_Página_12.jpg\"   style=\"width:400px;height:224px;\" >\n",
    "</figure>\n",
    "\n",
    "Estos son los números. Existe una fórmula que mapea $X$ en $Y$. ¿La puedes ver? Tómate un momento. La respuesta es $Y=2X-1$. Siempre que veas un $Y$, es el doble del $X$ correspondiente menos 1. Si lo averiguaste por ti mismo, bien hecho. ¿Pero cómo lo hiciste? ¿Cómo piensas que podrías averiguarlo? Tal vez puedes ver que $Y$ incrementa por 2 cada vez que $X$ incrementa por uno. Probablemente parece que $Y$ es igual a $2X$ más o menos algo. Entonces cuando vistes $X$ igual a 0 e $Y$ igual a -1, así que pensaste que ese algo es menos 1, la respuesta puede ser $2X$ menos 1. Probablemente lo probaste con un par de otros valores y viste que corresponde. Felicidades, acabas de hacer los rudimentos del aprendizaje automático mentalmente. \n",
    "\n",
    "Veámoslo ahora en código. \n",
    "\n",
    "``` Python\n",
    "model = keras.Sequential([keras.layers.Dense(units=1, input_shape=[1])])\n",
    "\n",
    "```\n",
    "\n",
    "Esta es nuestra primera línea de código. Esto está escrito usando Python y TensorFlow y un API en TensorFlow llamado Keras. Keras hace muy fácil definir redes neuronales. Una red neuronal es básicamente un conjunto de funciones que pueden aprender patrones. No te preocupes si hay muchos conceptos nuevos. Se aclararán bastante rápido a medida que trabajes con ellos. \n",
    "\n",
    "La red neuronal más simple posible es aquella que tiene una solo neurona en ella, y eso es lo que esta línea de código hace (la línea de código de arriba). En Keras usas la palabra `dense` para definir una capa de neuronas conectadas. Aquí solo hay un `dense`. Así que solo hay una capa y solo hay una unidad en ella, es una sola neurona. Las sucesivas capas están definidas en secuencia, de aquí la palabra `sequential`. Pero como dije, solo hay una. Solo tienes una neurona. Defines la forma (`shape`) de la entrada a la red neuronal en la primera y en este caso única capa, puedes ver que nuestra entrada es super simple. Es solamente un valor. \n",
    "\n",
    "Probablemente has visto que, para el aprendizaje automático, necesitas saber y usar un montón de matemáticas, cálculo, probabilidades y cosas similares. Es realmente muy bueno entenderlo al querer optimizar los modelos, pero lo bueno por ahora sobre TensorFlow y Keras es que muchas matemáticas están implementadas para ti en funciones. \n",
    "\n",
    "Existen dos roles de funciones de los que debes ser consciente. Estas son las funciones de **pérdida** y los **optimizadores**. Este código las define. \n",
    "\n",
    "\n",
    "``` Python\n",
    "model = compile(optimizer='sgd', loss='mean_squared_error')\n",
    "\n",
    "```\n",
    "\n",
    "Me gusta pensar en ello de esta manera. La red neuronal no tiene idea de la relación entre $X$ e $Y$, así que hace una conjetura. Digamos que conjetura que $Y=10X-10$. Usará los datos que conoce que son los conjuntos de $X$'s e $Y$'s que ya hemos visto para medir lo buena o lo mala que fue la conjetura. \n",
    "\n",
    "La función de pérdida mide esto y luego pasa los datos al optimizador que averigua la siguiente conjetura. El optimizador piensa sobre lo bien o mal que se hizo la conjetura usando los datos con la función de pérdida. La lógica es que cada conjetura debe ser mejor que la anterior. A medida que las conjeturas se mejoran la precisión se acerca al 100%, se usa el término convergencia. \n",
    "\n",
    "En este caso, la pérdida es el error cuadrático medio y el optimizador es SGD que significa descenso de gradiente estocástico. Si deseas aprender más sobre estas funciones particulares así como las otras opciones que pueden ser mejores en otros escenarios, revisa la documentación de TensorFlow. Por ahora solo vamos a usar esto. \n",
    "\n",
    "Nuestro siguiente paso es representar los datos conocidos. \n",
    "\n",
    "``` Python\n",
    "xs = np.array([-1.0, 0.0, 1.0, 2.0, 3.0, 4.0], dtype=float)\n",
    "ys = np.array([-3.0, -1.0, 1.0, 3.0, 5.0, 7.0], dtype=float)\n",
    "\n",
    "```\n",
    "\n",
    "Estos son los $X$'s e $Y$'s que viste anteriormente. El `np.array` usa una librería Python llamada Numpy que hace la representación de datos particularmente las listas mucho más fácil. Aquí puedes ver que tenemos una lista para las $X$ y otra para las $Y$s. \n",
    "\n",
    "El entrenamiento se da con el comando `fit`. \n",
    "\n",
    "``` Python\n",
    "model.fit(xs, ys, epochs=500)\n",
    "\n",
    "```\n",
    "\n",
    "Aquí pedimos al modelo que averigüe cómo ajustar los valores de $X$ a los valores de $Y$. Los `epochs` son igual a 500 y significa que vamos a hacer un bucle de entrenamiento 500 veces. \n",
    "\n",
    "Este bucle de entrenamiento es lo que describimos anteriormente. Haz una conjetura, mide lo buena o mala que es la conjetura con la función de pérdida, luego usas el optimizador y los datos para hacer otra conjetura y lo repites. \n",
    "\n",
    "Cuando el modelo ha finalizado el entrenamiento te dará valores usando el método de `predict`. \n",
    "\n",
    "``` Python\n",
    "print(model.predict([10.0]))\n",
    "\n",
    "```\n",
    "\n",
    "No has visto previamente 10, ¿y qué piensas que dará cuando le pases un 10? Puedes pensar que dará 19 porque después de todo $Y=2X-1$, y piensas que debe ser 19. Pero cuando pruebes esto en el cuaderno tú mismo, verás que da un valor muy cercano a 19 pero no exactamente 19. ¿Por qué crees que eso es así? Fundamentalmente hay dos razones principales. \n",
    "\n",
    "- La primera es que lo entrenaste usando muy pocos datos. Solamente hay seis puntos. Esos seis puntos son lineales pero no hay garantía de que por cada $X$, la relación será $Y=2X-1$. Hay una gran probabilidad de que $Y$ sea igual a 19 para $X=10$, pero la red neuronal no es positiva. Averiguará un valor realista para $Y$. \n",
    "- Esa es la segunda razón principal. Cuando se usan redes neuronales, como ellas averiguan las respuestas para todo, ellas tratan con probabilidades. Verás eso mucho y tendrás que ver cómo manejar las respuestas para el ajuste. Tenlo en cuenta mientras trabajas con el código. \n",
    "\n",
    "Suficiente teoría. Ahora vamos a ponerlo en práctica y escribir el código que acabamos de ver y luego lo podemos ejecutar."
   ]
  },
  {
   "cell_type": "markdown",
   "metadata": {},
   "source": [
    "### From rules to data"
   ]
  },
  {
   "cell_type": "markdown",
   "metadata": {},
   "source": [
    "En estos vídeos, se te ofreció una introducción a los conceptos y paradigmas del aprendizaje automático y el aprendizaje profundo. Has visto que el paradigma tradicional de expresar reglas en un lenguaje de codificación puede no funcionar siempre para resolver un problema. Así, aplicaciones como la visión por ordenador son muy difíciles de resolver con programación basada en reglas. En cambio, si alimentamos a un ordenador con suficientes datos que describimos (o etiquetamos) como lo que queremos que reconozca -dado que los ordenadores son realmente buenos procesando datos y comparando patrones-, entonces podríamos \"entrenar\" potencialmente a un sistema para que resuelva un problema. Ya vimos un ejemplo muy sencillo: ajustar números a una línea. Así que ahora, vamos a revisar un cuaderno y ejecutar el código que entrena a una red neuronal para aprender cómo un conjunto de números forman una línea. Después, alimentaremos la red entrenada con un nuevo punto de datos y veremos si predice correctamente el valor esperado."
   ]
  },
  {
   "cell_type": "markdown",
   "metadata": {},
   "source": [
    "### Working through ‘Hello World’ in TensorFlow and Python"
   ]
  },
  {
   "cell_type": "markdown",
   "metadata": {},
   "source": [
    "En la sección anterior, viste algunos detalles detrás del concepto y paradigmas del aprendizaje automático. Viste cómo era un cambio desde expresiones basadas en reglas usando código para obtener datos etiquetar esos datos, y luego tener una red neuronal que averigüe los patrones que generan las reglas. Viste a través de un ejemplo muy sencillo que tomaba algunos valores $X$ e $Y$ y averiguaba la relación entre ellos. \n",
    "\n",
    "Ahora vas a practicar escribiendo este código tú mismo. No necesitas un entorno de desarrollo para hacerlo, una forma en que lo puedes hacer, es usarlo correctamente en el navegador con algo llamado Google Colaboratory. Si estás familiarizado con Jupyter Notebooks en Python, estarás como en casa, y por supuesto también puedes usar Jupyter Notebooks. De otra forma, considera Colab un entorno que se ejecuta en el navegador que permite ejecutar, editar, e inspeccionar el código Python. Es realmente genial para aprender. Si desean más detalles sobre esto, revisa este vídeo en Youtube (link en el siguiente apartado). \n",
    "\n",
    "Este es el entorno Colab que uso con el Notebook para esta lección cargado en él. Voy a repasar la lección primera, y luego puedes hacerlo tú mismo. Puedes ejecutar el código haciendo clic en el botón play en un bloque de código. Asegúrate de ejecutar cada bloque en orden o podrías cometer errores. \n",
    "\n",
    "<figure>\n",
    " <img align=\"right\", src=\"./imagenes/01.jpg\"   style=\"width:400px;height:224px;\" >\n",
    "</figure>\n",
    "\n",
    "En este bloque, estoy importando configurando TensorFlow, Keras y NumPy. "
   ]
  },
  {
   "cell_type": "markdown",
   "metadata": {},
   "source": [
    "<figure>\n",
    " <img align=\"right\", src=\"./imagenes/02.jpg\"   style=\"width:400px;height:224px;\" >\n",
    "</figure>\n",
    "\n",
    "Luego, definiré la red neuronal como hemos dicho. Es una capa, con una neurona, y un valor de entrada. "
   ]
  },
  {
   "cell_type": "markdown",
   "metadata": {},
   "source": [
    "<figure>\n",
    " <img align=\"right\", src=\"./imagenes/03.jpg\"   style=\"width:400px;height:224px;\" >\n",
    "</figure>\n",
    "\n",
    "Ahora voy a compilar la red neuronal usando la función de pérdida y el optimizador. Recuerda, estas ayudan a la red neuronal a conjeturar el patrón, medir lo bien o mal que fue hecha la conjetura, antes de volver a intentarlo en la próxima epoch, y lentamente ser más preciso. Aquí es donde le damos los datos, donde tenemos una $x$ conocida y la correspondiente $y$ desconocida, y deseamos averiguar la relación entre ellas. Estos son dados usando NumPy arrays. "
   ]
  },
  {
   "cell_type": "markdown",
   "metadata": {},
   "source": [
    "<figure>\n",
    " <img align=\"right\", src=\"./imagenes/04.jpg\"   style=\"width:400px;height:224px;\" >\n",
    "</figure>\n",
    "\n",
    "Aquí es donde entrenamos y la máquina aprende los patrones. Estamos pidiendo al modelo que ajuste las $x$ a las $y$ y lo hará 500 epochs. "
   ]
  },
  {
   "cell_type": "markdown",
   "metadata": {},
   "source": [
    "<figure>\n",
    " <img align=\"right\", src=\"./imagenes/05.jpg\"   style=\"width:400px;height:224px;\" >\n",
    "</figure>\n",
    "\n",
    "Cada época es donde se realiza la conjetura, usa la función de pérdida para averiguar lo bien o mal que lo hizo, y luego usar el optimizador para hacer otra conjetura. Cuando se ejecuta, mantén un ojo en la pérdida en el lado derecho. Recuerda, conoce la respuesta correcta para los valores que le hemos dado, así puede comparar sus conjeturas con ellas. Cuando empiezo, mi pérdida es bastante alta, por ejemplo, la conjetura no era buena. Pero epoch a epoch, puedes ver disminuir la pérdida poco a poco. La red neuronal se está acercando a detectar la relación. "
   ]
  },
  {
   "cell_type": "markdown",
   "metadata": {},
   "source": [
    "<figure>\n",
    " <img align=\"right\", src=\"./imagenes/06.jpg\"   style=\"width:400px;height:224px;\" >\n",
    "</figure>\n",
    "\n",
    "Para cuando las 500 epochs han pasado, la pérdida es realmente muy pequeña significando que, para estos datos, ha llegado muy cerca de averiguar la relación entre $x$ e $y$. Veamos qué pasa si le damos una $x$ que no ha visto previamente. "
   ]
  },
  {
   "cell_type": "markdown",
   "metadata": {},
   "source": [
    "<figure>\n",
    " <img align=\"right\", src=\"./imagenes/07.jpg\"   style=\"width:400px;height:224px;\" >\n",
    "</figure>\n",
    "\n",
    "En este caso, 10. ¿Cuál piensas que será la respuesta? Como puedes ver termina con 18.98, muy cercano a 19 pero no del todo 19. ¿Recuerdas la razones de por qué? Revisa la lección en el vídeo anterior para ver la respuesta."
   ]
  },
  {
   "cell_type": "markdown",
   "metadata": {},
   "source": [
    "### Get started with Google Colaboratory (Coding TensorFlow)"
   ]
  },
  {
   "cell_type": "markdown",
   "metadata": {},
   "source": [
    "https://www.youtube.com/watch?v=inN8seMm7UI"
   ]
  },
  {
   "cell_type": "markdown",
   "metadata": {},
   "source": [
    "### Try it for yourself (Lab 1)"
   ]
  },
  {
   "cell_type": "markdown",
   "metadata": {},
   "source": [
    "Bien, ahora que has visto la demostración, ¿por qué no lo pruebas por ti mismo? Puedes descargar Notebook [aquí versión original](https://github.com/https-deeplearning-ai/tensorflow-1-public/blob/main/C1/W1/ungraded_lab/C1_W1_Lab_1_hello_world_nn.ipynb) o [aqui versión en español](https://github.com/IngCarlaPezzone/tensorflow-1-public/blob/main/C1/W1/ungraded_lab/C1_W1_Lab_1_hello_world_nn_Traducido.ipynb). \n",
    "\n",
    "Ahora bien, aunque esto pueda parecer muy simple, en realidad has obtenido los fundamentos de cómo funcionan las redes neuronales. Seguirás utilizando las mismas técnicas a medida que tus aplicaciones se vuelvan más complejas."
   ]
  },
  {
   "cell_type": "markdown",
   "metadata": {},
   "source": [
    "### Week 1 Quiz"
   ]
  },
  {
   "cell_type": "markdown",
   "metadata": {},
   "source": [
    "***\n",
    "<font size=\"2\" color=\"red\"><b> PREGUNTA 1 </b></font>\n",
    "\n",
    "¿Cuál es la diferencia entre la programación tradicional y el aprendizaje automático?\n",
    "\n",
    "- En la programación tradicional, un programador tiene que formular o codificar reglas manualmente, mientras que, en Machine Learning, el algoritmo formula automáticamente las reglas a partir de los datos.\n",
    "\n",
    "- El aprendizaje automático identifica actividades complejas como el golf, mientras que la programación tradicional se adapta mejor a actividades más simples como caminar.\n",
    "\n",
    "<font size=\"2\" color=\"red\"><b> PREGUNTA 2 </b></font>\n",
    "\n",
    "¿Cómo llamamos al proceso de decirle a la computadora lo que representan los datos (es decir, estos datos son para caminar, estos datos son para correr)?\n",
    "\n",
    "- Categorización de los datos (Categorizing the Data)\n",
    "- Aprendiendo los datos (Learning the Data)\n",
    "- Etiquetado de los datos (Labelling the Data)\n",
    "- Programando los datos (Programming the Data)\n",
    "\n",
    "<font size=\"2\" color=\"red\"><b> PREGUNTA 3 </b></font>\n",
    "\n",
    "¿Qué es una capa densa?\n",
    "\n",
    "- Una capa de neuronas conectadas\n",
    "- Una cantidad de masa que ocupa un volumen.\n",
    "- Una sola neurona\n",
    "- Una capa de neuronas desconectadas\n",
    "\n",
    "<font size=\"2\" color=\"red\"><b> PREGUNTA 4 </b></font>\n",
    "\n",
    "¿Cómo se mide qué tan buena es la \"suposición\" actual?\n",
    "\n",
    "- Averiguando si ganas o pierdes\n",
    "- Entrenando una red neuronal\n",
    "- Uso de la función de pérdida\n",
    "\n",
    "<font size=\"2\" color=\"red\"><b> PREGUNTA 5 </b></font>\n",
    "\n",
    "¿Qué hace el optimizador?\n",
    "\n",
    "- Decide dejar de entrenar una red neuronal\n",
    "- Mide qué tan buena es la conjetura actual\n",
    "- Averigua cómo compilar eficientemente tu código\n",
    "- Genera una conjetura nueva y mejorada.\n",
    "\n",
    "<font size=\"2\" color=\"red\"><b> PREGUNTA 6 </b></font>\n",
    "\n",
    "¿Qué es Convergencia?\n",
    "\n",
    "- Un aumento dramático en la pérdida\n",
    "- Un análisis que corresponde demasiado cerca o exactamente a un conjunto particular de datos.\n",
    "- Una API de programación para IA\n",
    "- El proceso de acercarse mucho a la respuesta correcta\n",
    "\n",
    "<font size=\"2\" color=\"red\"><b> PREGUNTA 7 </b></font>\n",
    "\n",
    "¿Qué hace model.fit?\n",
    "\n",
    "- Hace que un modelo se ajuste a la memoria disponible\n",
    "- Optimiza un modelo existente\n",
    "- Entrena la red neuronal para ajustar un conjunto de valores a otro\n",
    "- Determina si tu actividad es buena para tu cuerpo\n",
    "\n",
    "\n",
    "***\n",
    "\n",
    "<details>\n",
    "   <summary><font size=\"2\" color=\"darkblue\"><b> Click para la respuesta</b></font></summary>\n",
    "\n",
    "Respuesta 1: En la programación tradicional, un programador tiene que formular o codificar reglas manualmente, mientras que, en Machine Learning, el algoritmo formula automáticamente las reglas a partir de los datos.\n",
    "\n",
    "Respuesta 2: Etiquetado de los datos (Labelling the Data).\n",
    "    \n",
    "Respuesta 3: Una capa de neuronas conectadas.\n",
    "    \n",
    "Respuesta 4: Uso de la función de pérdida.\n",
    "    \n",
    "Respuesta 5: Genera una conjetura nueva y mejorada.\n",
    "  \n",
    "Respuesta 6: El proceso de acercarse mucho a la respuesta correcta.\n",
    "    \n",
    "Respuesta 7: Entrena la red neuronal para ajustar un conjunto de valores a otro.\n",
    "    \n",
    "</details>\n"
   ]
  },
  {
   "cell_type": "markdown",
   "metadata": {},
   "source": [
    "## WEEKLY ASSIGNMENT - YOUR FIRST NEURAL NETWORK"
   ]
  },
  {
   "cell_type": "markdown",
   "metadata": {},
   "source": [
    "[Versión en español](https://github.com/IngCarlaPezzone/tensorflow-1-public/blob/main/C1/W1/assignment/C1W1_Assignment_traducido.ipynb)"
   ]
  }
 ],
 "metadata": {
  "kernelspec": {
   "display_name": "Python 3",
   "language": "python",
   "name": "python3"
  },
  "language_info": {
   "codemirror_mode": {
    "name": "ipython",
    "version": 3
   },
   "file_extension": ".py",
   "mimetype": "text/x-python",
   "name": "python",
   "nbconvert_exporter": "python",
   "pygments_lexer": "ipython3",
   "version": "3.7.3"
  }
 },
 "nbformat": 4,
 "nbformat_minor": 4
}
