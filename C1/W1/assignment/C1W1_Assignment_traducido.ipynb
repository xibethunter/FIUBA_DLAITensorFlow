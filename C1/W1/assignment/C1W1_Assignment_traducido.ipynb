{
 "cells": [
  {
   "cell_type": "markdown",
   "metadata": {},
   "source": [
    "<a target=\"_blank\" href=\"https://colab.research.google.com/github/IngCarlaPezzone/tensorflow-1-public/blob/main/C1/W1/assignment/C1W1_Assignment_traducido.ipynb\">\n",
    "  <img src=\"https://colab.research.google.com/assets/colab-badge.svg\" alt=\"Open In Colab\"/>\n",
    "</a>"
   ]
  },
  {
   "cell_type": "markdown",
   "metadata": {
    "id": "mw2VBrBcgvGa"
   },
   "source": [
    "# Asignación de la semana 1: Precios de la vivienda\n",
    "\n",
    "En este ejercicio intentarás construir una red neuronal que prediga el precio de una vivienda según una fórmula sencilla.\n",
    "\n",
    "Imagina que el precio de la vivienda es tan fácil como:\n",
    "\n",
    "Una casa tiene un coste base de 50k, y cada dormitorio adicional añade un coste de 50k. De este modo, una casa de 1 dormitorio costará 100.000, una de 2 dormitorios, 150.000, etc.\n",
    "\n",
    "¿Cómo crearías una red neuronal que aprendiera esta relación para predecir que una casa de 7 habitaciones costaría cerca de 400.000, etc.?\n",
    "\n",
    "Sugerencia: La red podría funcionar mejor si se reduce el precio de la casa. No tienes que dar la respuesta 400... podría ser mejor crear algo que predijera el número 4, y entonces tu respuesta estaría en los \"cientos de miles\", etc.\n",
    "\n",
    "<details><summary><font size=\"2\" color=\"darkblue\"><b> Texto Original </b></font></summary>\n",
    "\n",
    "# Week 1 Assignment: Housing Prices\n",
    "\n",
    "In this exercise you'll try to build a neural network that predicts the price of a house according to a simple formula.\n",
    "\n",
    "Imagine that house pricing is as easy as:\n",
    "\n",
    "A house has a base cost of 50k, and every additional bedroom adds a cost of 50k. This will make a 1 bedroom house cost 100k, a 2 bedroom house cost 150k etc.\n",
    "\n",
    "How would you create a neural network that learns this relationship so that it would predict a 7 bedroom house as costing close to 400k etc.\n",
    "\n",
    "Hint: Your network might work better if you scale the house price down. You don't have to give the answer 400...it might be better to create something that predicts the number 4, and then your answer is in the 'hundreds of thousands' etc."
   ]
  },
  {
   "cell_type": "code",
   "execution_count": null,
   "metadata": {
    "id": "PUNO2E6SeURH",
    "tags": [
     "graded"
    ]
   },
   "outputs": [],
   "source": [
    "import tensorflow as tf\n",
    "import numpy as np"
   ]
  },
  {
   "cell_type": "code",
   "execution_count": null,
   "metadata": {
    "id": "B-74xrKrBqGJ",
    "tags": [
     "graded"
    ]
   },
   "outputs": [],
   "source": [
    "# GRADED FUNCTION: house_model\n",
    "def house_model():\n",
    "    ### START CODE HERE\n",
    "    \n",
    "    # Definir los tensores de entrada y salida con los valores de las casas con 1 hasta 6 dormitorios\n",
    "    # Sugerencia: Recuerda establecer explícitamente el dtype como float\n",
    "    xs = None\n",
    "    ys = None\n",
    "    \n",
    "    # Define tu modelo (debe ser un modelo con 1 capa densa y 1 unidad)\n",
    "    model = None\n",
    "    \n",
    "    # Compila tu modelo\n",
    "    # Establece el optimizador como Descenso Gradiente Estocástico\n",
    "    # y utiliza el Error Medio Cuadrado como función de pérdida\n",
    "    model.compile(optimizer=None, loss=None)\n",
    "    \n",
    "    # Entrena tu modelo durante 1000 épocas alimentando los tensores i/o\n",
    "    model.fit(None, None, epochs=None)\n",
    "    \n",
    "    ### END CODE HERE\n",
    "    return model"
   ]
  },
  {
   "cell_type": "markdown",
   "metadata": {},
   "source": [
    "Ahora que tienes una función que devuelve un modelo compilado y entrenado cuando se invoca, utilízala para que el modelo prediga el precio de las casas: \n",
    "\n",
    "<details><summary><font size=\"2\" color=\"darkblue\"><b> Texto Original </b></font></summary>\n",
    "\n",
    "Now that you have a function that returns a compiled and trained model when invoked, use it to get the model to predict the price of houses: "
   ]
  },
  {
   "cell_type": "code",
   "execution_count": null,
   "metadata": {
    "tags": [
     "graded"
    ]
   },
   "outputs": [],
   "source": [
    "# Obtenga su modelo entrenado\n",
    "model = house_model()"
   ]
  },
  {
   "cell_type": "markdown",
   "metadata": {},
   "source": [
    "Ahora que su modelo ha terminado de entrenarse, es el momento de probarlo. Puedes hacerlo ejecutando la siguiente celda.\n",
    "\n",
    "<details><summary><font size=\"2\" color=\"darkblue\"><b> Texto Original </b></font></summary>\n",
    "\n",
    "Now that your model has finished training it is time to test it out! You can do so by running the next cell."
   ]
  },
  {
   "cell_type": "code",
   "execution_count": null,
   "metadata": {
    "id": "kMlInDdSBqGK",
    "tags": [
     "graded"
    ]
   },
   "outputs": [],
   "source": [
    "new_y = 7.0\n",
    "prediction = model.predict([new_y])[0]\n",
    "print(prediction)"
   ]
  },
  {
   "cell_type": "markdown",
   "metadata": {},
   "source": [
    "Si todo ha ido como se esperaba, debería ver un valor de predicción muy cercano a 4. **Si no es así, intenta ajustar tu código antes de enviar la tarea.** Observa que puedes jugar con el valor de \"new_y\" para obtener diferentes predicciones. En general deberías ver que la red fue capaz de aprender la relación lineal entre `x` y `y`, así que si usas un valor de 8.0 deberías obtener una predicción cercana a 4.5 y así sucesivamente.\n",
    "\n",
    "<details><summary><font size=\"2\" color=\"darkblue\"><b> Texto Original </b></font></summary>\n",
    "\n",
    "If everything went as expected you should see a prediction value very close to 4. **If not, try adjusting your code before submitting the assignment.** Notice that you can play around with the value of `new_y` to get different predictions. In general you should see that the network was able to learn the linear relationship between `x` and `y`, so if you use a value of 8.0 you should get a prediction close to 4.5 and so on."
   ]
  },
  {
   "cell_type": "markdown",
   "metadata": {},
   "source": [
    "**Felicitaciones por haber terminado la tarea de esta semana.**\n",
    "\n",
    "Has codificado con éxito una red neuronal que ha aprendido la relación lineal entre dos variables. ¡Buen trabajo!\n",
    "\n",
    "**Sigue así.**\n",
    "\n",
    "<details><summary><font size=\"2\" color=\"darkblue\"><b> Texto Original </b></font></summary>\n",
    "\n",
    "**Congratulations on finishing this week's assignment!**\n",
    "\n",
    "You have successfully coded a neural network that learned the linear relationship between two variables. Nice job!\n",
    "\n",
    "**Keep it up!**"
   ]
  }
 ],
 "metadata": {
  "kernelspec": {
   "display_name": "Python 3",
   "language": "python",
   "name": "python3"
  },
  "language_info": {
   "codemirror_mode": {
    "name": "ipython",
    "version": 3
   },
   "file_extension": ".py",
   "mimetype": "text/x-python",
   "name": "python",
   "nbconvert_exporter": "python",
   "pygments_lexer": "ipython3",
   "version": "3.7.3"
  }
 },
 "nbformat": 4,
 "nbformat_minor": 4
}
