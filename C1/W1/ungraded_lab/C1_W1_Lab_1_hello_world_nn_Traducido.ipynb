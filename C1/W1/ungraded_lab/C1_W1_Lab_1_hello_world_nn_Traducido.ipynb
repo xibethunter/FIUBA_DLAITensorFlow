{
 "cells": [
  {
   "cell_type": "markdown",
   "metadata": {},
   "source": [
    "<a target=\"_blank\" href=\"https://colab.research.google.com/github/IngCarlaPezzone/tensorflow-1-public/blob/main/C1/W1/ungraded_lab/C1_W1_Lab_1_hello_world_nn_Traducido.ipynb\">\n",
    "  <img src=\"https://colab.research.google.com/assets/colab-badge.svg\" alt=\"Open In Colab\"/>\n",
    "</a>"
   ]
  },
  {
   "cell_type": "markdown",
   "metadata": {
    "id": "ZIAkIlfmCe1B"
   },
   "source": [
    "# Laboratorio no calificado: El hola mundo del aprendizaje profundo con redes neuronales\n",
    "\n",
    "<details><summary><font size=\"2\" color=\"darkblue\"><b> Texto Original </b></font></summary>\n",
    "\n",
    "# Ungraded Lab: The Hello World of Deep Learning with Neural Networks"
   ]
  },
  {
   "cell_type": "markdown",
   "metadata": {
    "id": "fA93WUy1zzWf"
   },
   "source": [
    "\n",
    "Como toda primera aplicación, debes comenzar con algo súper simple que muestre el andamiaje general de cómo funciona tu código. En el caso de la creación de redes neuronales, un caso sencillo es cuando aprende la relación entre dos números. Así, por ejemplo, si estuvieras escribiendo código para una función como esta, ya conoces las \"reglas\": \n",
    "\n",
    "\n",
    "```\n",
    "def hw_función(x):\n",
    "    y = (2 * x) - 1\n",
    "    devuelve y\n",
    "```\n",
    "\n",
    "Entonces, ¿cómo entrenarías a una red neuronal para hacer la tarea equivalente? Utilizando datos. Alimentándola con un conjunto de x e y, debería ser capaz de averiguar la relación entre ellas. \n",
    "\n",
    "Obviamente, se trata de un paradigma muy diferente al que estamos acostumbrados. Así que vayamos por partes.\n",
    "\n",
    "\n",
    "<details><summary><font size=\"2\" color=\"darkblue\"><b> Texto Original </b></font></summary>\n",
    "\n",
    "Like every first app, you should start with something super simple that shows the overall scaffolding for how your code works. In the case of creating neural networks, one simple case is where it learns the relationship between two numbers. So, for example, if you were writing code for a function like this, you already know the 'rules': \n",
    "\n",
    "\n",
    "```\n",
    "def hw_function(x):\n",
    "    y = (2 * x) - 1\n",
    "    return y\n",
    "```\n",
    "\n",
    "So how would you train a neural network to do the equivalent task? By using data! By feeding it with a set of x's and y's, it should be able to figure out the relationship between them. \n",
    "\n",
    "This is obviously a very different paradigm from what you might be used to. So let's step through it piece by piece.\n"
   ]
  },
  {
   "cell_type": "markdown",
   "metadata": {
    "id": "DzbtdRcZDO9B"
   },
   "source": [
    "## Importaciones\n",
    "\n",
    "Vamos a empezar con las importaciones. Aquí se importa [TensorFlow](https://www.tensorflow.org/) y se llama `tf` por convención y facilidad de uso.\n",
    "\n",
    "A continuación importas una librería llamada [`numpy`](https://numpy.org) que ayuda a representar datos como arrays fácilmente y a optimizar las operaciones numéricas.\n",
    "\n",
    "El marco de trabajo que usarás para construir una red neuronal como una secuencia de capas se llama [`keras`](https://keras.io/) así que también lo importarás.\n",
    "\n",
    "\n",
    "<details><summary><font size=\"2\" color=\"darkblue\"><b> Texto Original </b></font></summary>\n",
    "\n",
    "## Imports\n",
    "\n",
    "Let's start with the imports. Here, you are importing [TensorFlow](https://www.tensorflow.org/) and calling it `tf` for convention and ease of use.\n",
    "\n",
    "You then import a library called [`numpy`](https://numpy.org) which helps to represent data as arrays easily and to optimize numerical operations.\n",
    "\n",
    "The framework you will use to build a neural network as a sequence of layers is called [`keras`](https://keras.io/) so you will import that too.\n"
   ]
  },
  {
   "cell_type": "code",
   "execution_count": null,
   "metadata": {
    "id": "X9uIpOS2zx7k"
   },
   "outputs": [],
   "source": [
    "import tensorflow as tf\n",
    "import numpy as np\n",
    "from tensorflow import keras\n",
    "\n",
    "print(tf.__version__)"
   ]
  },
  {
   "cell_type": "markdown",
   "metadata": {
    "id": "wwJGmDrQ0EoB"
   },
   "source": [
    "## Definir y compilar la red neuronal\n",
    "\n",
    "A continuación, crearás la red neuronal más simple posible. Tiene 1 capa con 1 neurona, y la forma de entrada a la misma es sólo 1 valor. Construirás este modelo usando la clase [Sequential](https://keras.io/api/models/sequential/) de Keras que te permite definir la red como una secuencia de [capas](https://keras.io/api/layers/). Puedes utilizar una sola capa [Dense](https://keras.io/api/layers/core_layers/dense/) para construir esta red simple como se muestra a continuación.\n",
    "\n",
    "<details><summary><font size=\"2\" color=\"darkblue\"><b> Texto Original </b></font></summary>\n",
    "\n",
    "## Define and Compile the Neural Network\n",
    "\n",
    "Next, you will create the simplest possible neural network. It has 1 layer with 1 neuron, and the input shape to it is just 1 value. You will build this model using Keras' [Sequential](https://keras.io/api/models/sequential/) class which allows you to define the network as a sequence of [layers](https://keras.io/api/layers/). You can use a single [Dense](https://keras.io/api/layers/core_layers/dense/) layer to build this simple network as shown below."
   ]
  },
  {
   "cell_type": "code",
   "execution_count": null,
   "metadata": {
    "id": "kQFAr_xo0M4T"
   },
   "outputs": [],
   "source": [
    "# Construir un modelo secuencial simple\n",
    "model = tf.keras.Sequential([keras.layers.Dense(units=1, input_shape=[1])])"
   ]
  },
  {
   "cell_type": "markdown",
   "metadata": {
    "id": "KhjZjZ-c0Ok9"
   },
   "source": [
    "Ahora, compilarás la red neuronal. Al hacerlo, tienes que especificar 2 funciones: una [pérdida](https://keras.io/api/losses/) y un [optimizador](https://keras.io/api/optimizers/).\n",
    "\n",
    "Si has visto muchas matemáticas para el aprendizaje automático, aquí es donde se suele utilizar. Pero en este caso, está muy bien encapsulado en funciones y clases para ti. ¿Pero qué pasa aquí? Vamos a explicarlo...\n",
    "\n",
    "Sabes que en la función declarada al principio de este cuaderno, la relación entre los números es `y=2x-1`. Cuando el ordenador intenta \"aprender\" eso, hace una conjetura... quizás `y=10x+10`. La función \"pérdida\" mide las respuestas adivinadas contra las respuestas correctas conocidas y mide lo bien o lo mal que lo hizo.\n",
    "\n",
    "A continuación, utiliza la función \"optimizador\" para hacer otra conjetura. Basándose en cómo fue la función de pérdida, tratará de minimizar la pérdida. En ese momento, tal vez llegue a algo como `y=5x+5`, que, aunque sigue siendo bastante malo, está más cerca del resultado correcto (es decir, la pérdida es menor).\n",
    "\n",
    "Esto se repetirá para el número de _epocas_ (_epochs_) que verás en breve. Pero primero, así es como le dirá que use [error cuadrático medio](https://keras.io/api/losses/regression_losses/#meansquarederror-function) para la pérdida y [descenso de gradiente estocástico](https://keras.io/api/optimizers/sgd/) para el optimizador. Todavía no es necesario que entiendas las matemáticas de esto, ¡pero puedes ver que funcionan!\n",
    "\n",
    "Con el tiempo, aprenderá las funciones de pérdida y optimizador diferentes y apropiadas para diferentes escenarios. \n",
    "\n",
    "<details><summary><font size=\"2\" color=\"darkblue\"><b> Texto Original </b></font></summary>\n",
    "\n",
    "Now, you will compile the neural network. When you do so, you have to specify 2 functions: a [loss](https://keras.io/api/losses/) and an [optimizer](https://keras.io/api/optimizers/).\n",
    "\n",
    "If you've seen lots of math for machine learning, here's where it's usually used. But in this case, it's nicely encapsulated in functions and classes for you. But what happens here? Let's explain...\n",
    "\n",
    "You know that in the function declared at the start of this notebook, the relationship between the numbers is `y=2x-1`. When the computer is trying to 'learn' that, it makes a guess... maybe `y=10x+10`. The `loss` function measures the guessed answers against the known correct answers and measures how well or how badly it did.\n",
    "\n",
    "It then uses the `optimizer` function to make another guess. Based on how the loss function went, it will try to minimize the loss. At that point maybe it will come up with something like `y=5x+5`, which, while still pretty bad, is closer to the correct result (i.e. the loss is lower).\n",
    "\n",
    "It will repeat this for the number of _epochs_ which you will see shortly. But first, here's how you will tell it to use [mean squared error](https://keras.io/api/losses/regression_losses/#meansquarederror-function) for the loss and [stochastic gradient descent](https://keras.io/api/optimizers/sgd/) for the optimizer. You don't need to understand the math for these yet, but you can see that they work!\n",
    "\n",
    "Over time, you will learn the different and appropriate loss and optimizer functions for different scenarios. \n"
   ]
  },
  {
   "cell_type": "code",
   "execution_count": null,
   "metadata": {
    "id": "m8YQN1H41L-Y"
   },
   "outputs": [],
   "source": [
    "# Compilar el modelo\n",
    "model.compile(optimizer='sgd', loss='mean_squared_error')"
   ]
  },
  {
   "cell_type": "markdown",
   "metadata": {
    "id": "5QyOUhFw1OUX"
   },
   "source": [
    "## Proporcionar los datos\n",
    "\n",
    "A continuación, usted introducirá algunos datos. En este caso, estás tomando 6 X's y 6 Y's. Puedes ver que la relación entre estos es `y=2x-1`, así que donde `x = -1`, `y=-3` etc. \n",
    "\n",
    "La forma estándar de facto de declarar las entradas y salidas del modelo es utilizar `numpy`, una biblioteca de Python que proporciona muchas estructuras de datos de tipo array. Puedes especificar estos valores construyendo arrays de numpy con [`np.array()`](https://numpy.org/doc/stable/reference/generated/numpy.array.html).\n",
    "\n",
    "<details><summary><font size=\"2\" color=\"darkblue\"><b> Texto Original </b></font></summary>\n",
    "\n",
    "## Providing the Data\n",
    "\n",
    "Next up, you will feed in some data. In this case, you are taking 6 X's and 6 Y's. You can see that the relationship between these is `y=2x-1`, so where `x = -1`, `y=-3` etc. \n",
    "\n",
    "The de facto standard way of declaring model inputs and outputs is to use `numpy`, a Python library that provides lots of array type data structures. You can specify these values by building numpy arrays with [`np.array()`](https://numpy.org/doc/stable/reference/generated/numpy.array.html)."
   ]
  },
  {
   "cell_type": "code",
   "execution_count": null,
   "metadata": {
    "id": "4Dxk4q-jzEy4"
   },
   "outputs": [],
   "source": [
    "# Declarar las entradas y salidas del modelo para la formación\n",
    "xs = np.array([-1.0,  0.0, 1.0, 2.0, 3.0, 4.0], dtype=float)\n",
    "ys = np.array([-3.0, -1.0, 1.0, 3.0, 5.0, 7.0], dtype=float)"
   ]
  },
  {
   "cell_type": "markdown",
   "metadata": {
    "id": "n_YcWRElnM_b"
   },
   "source": [
    "# Entrenamiento de la red neuronal\n",
    "\n",
    "El proceso de entrenamiento de la red neuronal, en el que \"aprende\" la relación entre las x y las y, está en la llamada [`model.fit()`](https://keras.io/api/models/model_training_apis/#fit-method). Aquí es donde pasará por el bucle del que hablamos antes: hacer una conjetura, medir lo buena o mala que es (también conocida como la pérdida), usar el optimizador para hacer otra conjetura, etc. Lo hará para el número de `epocas` que especifiques. Cuando ejecutes este código, verás la pérdida en el lado derecho.\n",
    "\n",
    "<details><summary><font size=\"2\" color=\"darkblue\"><b> Texto Original </b></font></summary>\n",
    "\n",
    "# Training the Neural Network\n",
    "\n",
    "The process of training the neural network, where it 'learns' the relationship between the x's and y's is in the [`model.fit()`](https://keras.io/api/models/model_training_apis/#fit-method)  call. This is where it will go through the loop we spoke about above: making a guess, measuring how good or bad it is (aka the loss), using the optimizer to make another guess etc. It will do it for the number of `epochs` you specify. When you run this code, you'll see the loss on the right hand side."
   ]
  },
  {
   "cell_type": "code",
   "execution_count": null,
   "metadata": {
    "id": "lpRrl7WK10Pq"
   },
   "outputs": [],
   "source": [
    "# Entrenar el modelo\n",
    "model.fit(xs, ys, epochs=500)"
   ]
  },
  {
   "cell_type": "markdown",
   "metadata": {
    "id": "kaFIr71H2OZ-"
   },
   "source": [
    "Bien, ahora tienes un modelo que ha sido entrenado para aprender la relación entre `x` y `y`. Puedes utilizar el método [`model.predict()`](https://keras.io/api/models/model_training_apis/#predict-method) para que calcule la `y` para una `x` previamente desconocida. Así, por ejemplo, si `x=10`, ¿qué crees que será `y`? Adivina antes de ejecutar este código:\n",
    "\n",
    "<details><summary><font size=\"2\" color=\"darkblue\"><b> Texto Original </b></font></summary>\n",
    "\n",
    "Ok, now you have a model that has been trained to learn the relationship between `x` and `y`. You can use the [`model.predict()`](https://keras.io/api/models/model_training_apis/#predict-method) method to have it figure out the `y` for a previously unknown `x`. So, for example, if `x=10`, what do you think `y` will be? Take a guess before you run this code:"
   ]
  },
  {
   "cell_type": "code",
   "execution_count": null,
   "metadata": {
    "id": "oxNzL4lS2Gui"
   },
   "outputs": [],
   "source": [
    "# Haga una predicción\n",
    "print(model.predict([10.0]))"
   ]
  },
  {
   "cell_type": "markdown",
   "metadata": {
    "id": "btF2CSFH2iEX"
   },
   "source": [
    "Podrías haber pensado \"19\", ¿verdad? Pero terminó siendo un poco menos. ¿Por qué crees que es así? \n",
    "\n",
    "Recuerde que las redes neuronales tratan con probabilidades. Así que, dados los datos con los que alimentamos el modelo, éste calculó que hay una probabilidad muy alta de que la relación entre `x` y `y` sea `y=2x-1`, pero con sólo 6 puntos de datos no podemos saberlo con seguridad. En consecuencia, el resultado de 10 es muy cercano a 19, pero no necesariamente 19.\n",
    "\n",
    "Cuando trabajes con redes neuronales, verás que este patrón se repite. Casi siempre tratará con probabilidades, no con certezas, y hará un poco de codificación para averiguar cuál es el resultado basado en las probabilidades, especialmente cuando se trata de la clasificación.\n",
    "\n",
    "<details><summary><font size=\"2\" color=\"darkblue\"><b> Texto Original </b></font></summary>\n",
    "\n",
    "You might have thought `19`, right? But it ended up being a little under. Why do you think that is? \n",
    "\n",
    "Remember that neural networks deal with probabilities. So given the data that we fed the model with, it calculated that there is a very high probability that the relationship between `x` and `y` is `y=2x-1`, but with only 6 data points we can't know for sure. As a result, the result for 10 is very close to 19, but not necessarily 19.\n",
    "\n",
    "As you work with neural networks, you'll see this pattern recurring. You will almost always deal with probabilities, not certainties, and will do a little bit of coding to figure out what the result is based on the probabilities, particularly when it comes to classification.\n"
   ]
  }
 ],
 "metadata": {
  "colab": {
   "collapsed_sections": [],
   "name": "C1_W1_Lab_1_hello_world_nn.ipynb",
   "private_outputs": true,
   "provenance": [
    {
     "file_id": "https://github.com/https-deeplearning-ai/tensorflow-1-public/blob/main/C1/W1/ungraded_lab/C1_W1_Lab_1_hello_world_nn.ipynb",
     "timestamp": 1637670538744
    }
   ],
   "toc_visible": true
  },
  "kernelspec": {
   "display_name": "Python 3",
   "language": "python",
   "name": "python3"
  },
  "language_info": {
   "codemirror_mode": {
    "name": "ipython",
    "version": 3
   },
   "file_extension": ".py",
   "mimetype": "text/x-python",
   "name": "python",
   "nbconvert_exporter": "python",
   "pygments_lexer": "ipython3",
   "version": "3.7.3"
  }
 },
 "nbformat": 4,
 "nbformat_minor": 4
}
