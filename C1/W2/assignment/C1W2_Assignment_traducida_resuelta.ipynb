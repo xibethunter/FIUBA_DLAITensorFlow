{
 "cells": [
  {
   "cell_type": "markdown",
   "metadata": {},
   "source": [
    "<a target=\"_blank\" href=\"https://colab.research.google.com/github/IngCarlaPezzone/tensorflow-1-public/blob/main/C1/W2/ungraded_labs/C1_W2_Lab_2_callbacks_traducida.ipynb\">\n",
    "  <img src=\"https://colab.research.google.com/assets/colab-badge.svg\" alt=\"Open In Colab\"/>\n",
    "</a>"
   ]
  },
  {
   "cell_type": "markdown",
   "metadata": {
    "id": "_2s0EJ5Fy4u2"
   },
   "source": [
    "# Semana 2: Implementación de Callbacks en TensorFlow utilizando el conjunto de datos MNIST\n",
    "\n",
    "En el curso aprendiste a hacer la clasificación usando la moda MNIST, un conjunto de datos que contiene artículos de ropa. Hay otro conjunto de datos similar llamado MNIST que tiene elementos de escritura a mano - los dígitos del 0 al 9.\n",
    "\n",
    "Escribe un clasificador MNIST que se entrene hasta el 99% de precisión y se detenga una vez alcanzado este umbral. En la clase has visto cómo se hace esto para la pérdida, pero aquí usarás la precisión en su lugar.\n",
    "\n",
    "Algunas notas:\n",
    "1. Tu red debe tener éxito en menos de 9 épocas.\n",
    "2. Cuando alcance el 99% o más, debería imprimir la cadena \"¡Ha alcanzado el 99% de precisión, por lo que se cancela el entrenamiento!\" y detener el entrenamiento.\n",
    "3. Si añades alguna variable adicional, asegúrate de utilizar los mismos nombres que los utilizados en la clase. Esto es importante para las firmas de las funciones (los parámetros y nombres) de las devoluciones de llamada.\n",
    "\n",
    "<details><summary><font size=\"2\" color=\"darkblue\"><b> Texto Original </b></font></summary>\n",
    "\n",
    "# Week 2: Implementing Callbacks in TensorFlow using the MNIST Dataset\n",
    "\n",
    "In the course you learned how to do classification using Fashion MNIST, a data set containing items of clothing. There's another, similar dataset called MNIST which has items of handwriting -- the digits 0 through 9.\n",
    "\n",
    "Write an MNIST classifier that trains to 99% accuracy and stops once this threshold is achieved. In the lecture you saw how this was done for the loss but here you will be using accuracy instead.\n",
    "\n",
    "Some notes:\n",
    "1. Your network should succeed in less than 9 epochs.\n",
    "2. When it reaches 99% or greater it should print out the string \"Reached 99% accuracy so cancelling training!\" and stop training.\n",
    "3. If you add any additional variables, make sure you use the same names as the ones used in the class. This is important for the function signatures (the parameters and names) of the callbacks."
   ]
  },
  {
   "cell_type": "code",
   "execution_count": 1,
   "metadata": {
    "tags": [
     "graded"
    ]
   },
   "outputs": [],
   "source": [
    "import os\n",
    "import tensorflow as tf\n",
    "from tensorflow import keras"
   ]
  },
  {
   "cell_type": "markdown",
   "metadata": {},
   "source": [
    "## Cargar e inspeccionar los datos\n",
    "\n",
    "Comience por cargar los datos. Hay que tener en cuenta un par de cosas:\n",
    "\n",
    "- El archivo `mnist.npz` ya está incluido en el espacio de trabajo actual bajo el directorio `data`. Por defecto el `load_data` de Keras acepta una ruta relativa a `~/.keras/datasets` pero en este caso se almacena en otro lugar, por lo que es necesario especificar la ruta completa.\n",
    "\n",
    "- El programa `load_data` devuelve los conjuntos de entrenamiento y de prueba en forma de tuplas `(x_train, y_train), (x_test, y_test)` pero en este ejercicio sólo necesitarás el conjunto de entrenamiento por lo que puedes ignorar la segunda tupla.\n",
    "\n",
    "<details><summary><font size=\"2\" color=\"darkblue\"><b> Texto Original </b></font></summary>\n",
    "\n",
    "## Load and inspect the data\n",
    "\n",
    "Begin by loading the data. A couple of things to notice:\n",
    "\n",
    "- The file `mnist.npz` is already included in the current workspace under the `data` directory. By default the `load_data` from Keras accepts a path relative to `~/.keras/datasets` but in this case it is stored somewhere else, as a result of this, you need to specify the full path.\n",
    "\n",
    "- `load_data` returns the train and test sets in the form of the tuples `(x_train, y_train), (x_test, y_test)` but in this exercise you will be needing only the train set so you can ignore the second tuple."
   ]
  },
  {
   "cell_type": "code",
   "execution_count": 3,
   "metadata": {
    "tags": [
     "graded"
    ]
   },
   "outputs": [],
   "source": [
    "# Cargar los datos\n",
    "\n",
    "# Obtener el directorio de trabajo actual\n",
    "current_dir = os.getcwd()\n",
    "\n",
    "# Añadir data/mnist.npz a la ruta anterior para obtener la ruta completa\n",
    "data_path = os.path.join(current_dir, \"data/mnist.npz\")\n",
    "\n",
    "# Descartar el conjunto de pruebas\n",
    "(x_train, y_train), _ = tf.keras.datasets.mnist.load_data(path=data_path)\n",
    "        \n",
    "# Normalizar los valores de los píxeles\n",
    "x_train = x_train / 255.0"
   ]
  },
  {
   "cell_type": "markdown",
   "metadata": {},
   "source": [
    "Ahora observa la forma de los datos de entrenamiento:\n",
    "\n",
    "<details><summary><font size=\"2\" color=\"darkblue\"><b> Texto Original </b></font></summary>\n",
    "\n",
    "Now take a look at the shape of the training data:"
   ]
  },
  {
   "cell_type": "code",
   "execution_count": 4,
   "metadata": {
    "tags": [
     "graded"
    ]
   },
   "outputs": [
    {
     "name": "stdout",
     "output_type": "stream",
     "text": [
      "There are 60000 examples with shape (28, 28)\n"
     ]
    }
   ],
   "source": [
    "data_shape = x_train.shape\n",
    "\n",
    "print(f\"There are {data_shape[0]} examples with shape ({data_shape[1]}, {data_shape[2]})\")"
   ]
  },
  {
   "cell_type": "markdown",
   "metadata": {},
   "source": [
    "## Definiendo su callback\n",
    "\n",
    "Ahora es el momento de crear tu propio callback personalizado. Para ello completa la clase `myCallback` y el método `on_epoch_end` en la celda de abajo. Si necesitas orientación sobre cómo proceder, consulta este [enlace](https://www.tensorflow.org/guide/keras/custom_callback).\n",
    "\n",
    "<details><summary><font size=\"2\" color=\"darkblue\"><b> Texto Original </b></font></summary>\n",
    "\n",
    "## Defining your callback\n",
    "\n",
    "Now it is time to create your own custom callback. For this complete the `myCallback` class and the `on_epoch_end` method in the cell below. If you need some guidance on how to proceed, check out this [link](https://www.tensorflow.org/guide/keras/custom_callback)."
   ]
  },
  {
   "cell_type": "code",
   "execution_count": 14,
   "metadata": {
    "tags": [
     "graded"
    ]
   },
   "outputs": [],
   "source": [
    "# GRADED CLASS: myCallback\n",
    "### START CODE HERE\n",
    "\n",
    "# Recuerda heredar de la clase correcta\n",
    "class myCallback(tf.keras.callbacks.Callback):\n",
    "        # Define la firma de la función correcta para on_epoch_end\n",
    "        def on_epoch_end(self, epoch, logs={}):\n",
    "            if logs.get('accuracy') is not None and logs.get('accuracy') > 0.99:\n",
    "                print(\"\\nReached 99% accuracy so cancelling training!\") \n",
    "                \n",
    "                # Detener el entrenamiento una vez que se cumpla la condición anterior\n",
    "                self.model.stop_training = True\n",
    "\n",
    "### END CODE HERE\n"
   ]
  },
  {
   "cell_type": "markdown",
   "metadata": {},
   "source": [
    "## Crea y entrena tu modelo\n",
    "\n",
    "Ahora que has definido tu callback es el momento de completar la función `train_mnist` de abajo. \n",
    "\n",
    "**Debes configurar tu modelo para que se entrene durante 10 épocas y la llamada de retorno debe dispararse antes de la novena época para que apruebes esta tarea.**\n",
    "\n",
    "**Sugerencia:**\n",
    "- Siéntete libre de probar la arquitectura para la red neuronal que consideres oportuna pero en caso de que necesites ayuda extra puedes consultar una arquitectura que funciona bastante bien al final de este cuaderno.\n",
    "\n",
    "<details><summary><font size=\"2\" color=\"darkblue\"><b> Texto Original </b></font></summary>\n",
    "\n",
    "## Create and train your model\n",
    "\n",
    "Now that you have defined your callback it is time to complete the `train_mnist` function below. \n",
    "\n",
    "**You must set your model to train for 10 epochs and the callback should fire before the 9th epoch for you to pass this assignment.**\n",
    "\n",
    "**Hint:**\n",
    "- Feel free to try the architecture for the neural network that you see fit but in case you need extra help you can check out an architecture that works pretty well at the end of this notebook."
   ]
  },
  {
   "cell_type": "code",
   "execution_count": 15,
   "metadata": {
    "id": "rEHcB3kqyHZ6",
    "tags": [
     "graded"
    ]
   },
   "outputs": [],
   "source": [
    "# GRADED FUNCTION: train_mnist\n",
    "def train_mnist(x_train, y_train):\n",
    "\n",
    "    ### START CODE HERE\n",
    "    \n",
    "    #  Instanciar la clase callback\n",
    "    callbacks = myCallback()\n",
    "    \n",
    "    # Definir el modelo\n",
    "    model = tf.keras.models.Sequential([ \n",
    "        tf.keras.layers.Flatten(input_shape=(28, 28)),\n",
    "        tf.keras.layers.Dense(512, activation=tf.nn.relu),\n",
    "        tf.keras.layers.Dense(10, activation=tf.nn.softmax)\n",
    "    ]) \n",
    "\n",
    "    # Compilar el modelo\n",
    "    model.compile(optimizer='adam', \n",
    "                  loss='sparse_categorical_crossentropy', \n",
    "                  metrics=['accuracy']) \n",
    "    \n",
    "    # Ajustar el modelo durante 10 épocas añadiendo los callbacks\n",
    "    # y guardar el historial de entrenamiento\n",
    "    history = model.fit(x_train, y_train, epochs=10, callbacks=[callbacks])\n",
    "\n",
    "    ### END CODE HERE\n",
    "\n",
    "    return history"
   ]
  },
  {
   "cell_type": "markdown",
   "metadata": {},
   "source": [
    "Llama al `train_mnist` pasando los parámetros adecuados para obtener el historial de entrenamiento:\n",
    "\n",
    "<details><summary><font size=\"2\" color=\"darkblue\"><b> Texto Original </b></font></summary>\n",
    "\n",
    "Call the `train_mnist` passing in the appropiate parameters to get the training history:"
   ]
  },
  {
   "cell_type": "code",
   "execution_count": 16,
   "metadata": {
    "id": "sFgpwbGly4u4",
    "tags": [
     "graded"
    ]
   },
   "outputs": [
    {
     "name": "stdout",
     "output_type": "stream",
     "text": [
      "Epoch 1/10\n",
      "1875/1875 [==============================] - 9s 4ms/step - loss: 0.1992 - accuracy: 0.9403\n",
      "Epoch 2/10\n",
      "1875/1875 [==============================] - 8s 4ms/step - loss: 0.0795 - accuracy: 0.9762\n",
      "Epoch 3/10\n",
      "1875/1875 [==============================] - 8s 4ms/step - loss: 0.0528 - accuracy: 0.9833\n",
      "Epoch 4/10\n",
      "1875/1875 [==============================] - 9s 5ms/step - loss: 0.0366 - accuracy: 0.9880\n",
      "Epoch 5/10\n",
      "1870/1875 [============================>.] - ETA: 0s - loss: 0.0274 - accuracy: 0.9912\n",
      "Reached 99% accuracy so cancelling training!\n",
      "1875/1875 [==============================] - 9s 5ms/step - loss: 0.0274 - accuracy: 0.9912\n"
     ]
    }
   ],
   "source": [
    "hist = train_mnist(x_train, y_train)"
   ]
  },
  {
   "cell_type": "markdown",
   "metadata": {},
   "source": [
    "Si ves el mensaje \"Alcanzado el 99% de precisión, por lo que se cancela el entrenamiento\" impreso después de menos de 9 épocas, significa que tu devolución de llamada ha funcionado como se esperaba. \n",
    "\n",
    "<details><summary><font size=\"2\" color=\"darkblue\"><b> Texto Original </b></font></summary>\n",
    "\n",
    "If you see the message `Reached 99% accuracy so cancelling training!` printed out after less than 9 epochs it means your callback worked as expected. "
   ]
  },
  {
   "cell_type": "markdown",
   "metadata": {},
   "source": [
    "## ¿Necesitas más ayuda?\n",
    "\n",
    "Ejecute la siguiente celda para ver una arquitectura que funciona bien para el problema en cuestión:\n",
    "\n",
    "<details><summary><font size=\"2\" color=\"darkblue\"><b> Texto Original </b></font></summary>\n",
    "\n",
    "## Need more help?\n",
    "\n",
    "Run the following cell to see an architecture that works well for the problem at hand:"
   ]
  },
  {
   "cell_type": "code",
   "execution_count": null,
   "metadata": {},
   "outputs": [],
   "source": [
    "# LE RECOMENDAMOS ENCARECIDAMENTE QUE PRUEBE PRIMERO SUS PROPIAS ARQUITECTURAS\n",
    "# Y SÓLO EJECUTE ESTA CELDA SI DESEA VER UNA RESPUESTA\n",
    "\n",
    "import base64\n",
    "\n",
    "encoded_answer = \"CiAgIC0gQSBGbGF0dGVuIGxheWVyIHRoYXQgcmVjZWl2ZXMgaW5wdXRzIHdpdGggdGhlIHNhbWUgc2hhcGUgYXMgdGhlIGltYWdlcwogICAtIEEgRGVuc2UgbGF5ZXIgd2l0aCA1MTIgdW5pdHMgYW5kIFJlTFUgYWN0aXZhdGlvbiBmdW5jdGlvbgogICAtIEEgRGVuc2UgbGF5ZXIgd2l0aCAxMCB1bml0cyBhbmQgc29mdG1heCBhY3RpdmF0aW9uIGZ1bmN0aW9uCg==\"\n",
    "encoded_answer = encoded_answer.encode('ascii')\n",
    "answer = base64.b64decode(encoded_answer)\n",
    "answer = answer.decode('ascii')\n",
    "\n",
    "print(answer)"
   ]
  },
  {
   "cell_type": "markdown",
   "metadata": {},
   "source": [
    "**Felicitaciones por terminar la tarea de esta semana.**\n",
    "\n",
    "Has implementado con éxito una devolución de llamada que te da más control sobre el bucle de entrenamiento de tu modelo. Buen trabajo.\n",
    "\n",
    "**Sigue así.**\n",
    "\n",
    "<details><summary><font size=\"2\" color=\"darkblue\"><b> Texto Original </b></font></summary>\n",
    "\n",
    "**Congratulations on finishing this week's assignment!**\n",
    "\n",
    "You have successfully implemented a callback that gives you more control over the training loop for your model. Nice job!\n",
    "\n",
    "**Keep it up!**"
   ]
  }
 ],
 "metadata": {
  "jupytext": {
   "main_language": "python"
  },
  "kernelspec": {
   "display_name": "Python [conda env:.conda-principiante]",
   "language": "python",
   "name": "conda-env-.conda-principiante-py"
  },
  "language_info": {
   "codemirror_mode": {
    "name": "ipython",
    "version": 3
   },
   "file_extension": ".py",
   "mimetype": "text/x-python",
   "name": "python",
   "nbconvert_exporter": "python",
   "pygments_lexer": "ipython3",
   "version": "3.10.4"
  }
 },
 "nbformat": 4,
 "nbformat_minor": 4
}
