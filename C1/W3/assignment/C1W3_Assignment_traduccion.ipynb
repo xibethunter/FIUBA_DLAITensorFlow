{
 "cells": [
  {
   "cell_type": "markdown",
   "metadata": {},
   "source": [
    "<a target=\"_blank\" href=\"https://colab.research.google.com/github/IngCarlaPezzone/tensorflow-1-public/blob/main/C1/W3/assignment/C1W3_Assignment_traduccion.ipynb\">\n",
    "  <img src=\"https://colab.research.google.com/assets/colab-badge.svg\" alt=\"Open In Colab\"/>\n",
    "</a>"
   ]
  },
  {
   "cell_type": "markdown",
   "metadata": {
    "id": "iQjHqsmTAVLU"
   },
   "source": [
    "# Semana 3: Mejorar MNIST con Convoluciones\n",
    "\n",
    "En los vídeos has visto cómo mejorar el MNIST de moda usando Convoluciones. Para este ejercicio comprueba si puedes mejorar MNIST hasta el 99,5% de precisión o más añadiendo sólo una capa convolucional y una única capa MaxPooling 2D al modelo de la asignación de la semana anterior. \n",
    "\n",
    "Deberías dejar de entrenar una vez que la precisión supere esta cantidad. Debería ocurrir en menos de 10 épocas, así que está bien codificar el número de épocas para el entrenamiento, pero su entrenamiento debe terminar una vez que alcance la métrica anterior. Si no lo hace, entonces usted tendrá que rediseñar su devolución de llamada.\n",
    "\n",
    "Cuando se ha alcanzado el 99,5% de precisión, debe imprimir la cadena \"¡Alcanzado el 99,5% de precisión, por lo que se cancela el entrenamiento!\"\n",
    "\n",
    "<details><summary><font size=\"2\" color=\"darkblue\"><b> Texto Original </b></font></summary>\n",
    "\n",
    "# Week 3: Improve MNIST with Convolutions\n",
    "\n",
    "In the videos you looked at how you would improve Fashion MNIST using Convolutions. For this exercise see if you can improve MNIST to 99.5% accuracy or more by adding only a single convolutional layer and a single MaxPooling 2D layer to the model from the  assignment of the previous week. \n",
    "\n",
    "You should stop training once the accuracy goes above this amount. It should happen in less than 10 epochs, so it's ok to hard code the number of epochs for training, but your training must end once it hits the above metric. If it doesn't, then you'll need to redesign your callback.\n",
    "\n",
    "When 99.5% accuracy has been hit, you should print out the string \"Reached 99.5% accuracy so cancelling training!\"\n"
   ]
  },
  {
   "cell_type": "code",
   "execution_count": null,
   "metadata": {
    "id": "ZpztRwBouwYp",
    "tags": [
     "graded"
    ]
   },
   "outputs": [],
   "source": [
    "import os\n",
    "import numpy as np\n",
    "import tensorflow as tf\n",
    "from tensorflow import keras"
   ]
  },
  {
   "cell_type": "markdown",
   "metadata": {},
   "source": [
    "## Cargar los datos\n",
    "\n",
    "Comienza cargando los datos. Hay que tener en cuenta un par de cosas:\n",
    "\n",
    "- El archivo `mnist.npz` ya está incluido en el espacio de trabajo actual bajo el directorio `data`. Por defecto el `load_data` de Keras acepta una ruta relativa a `~/.keras/datasets` pero en este caso se almacena en otro lugar, por lo que es necesario especificar la ruta completa.\n",
    "\n",
    "- El programa `load_data` devuelve los conjuntos de entrenamiento y de prueba en forma de tuplas `(x_train, y_train), (x_test, y_test)` pero en este ejercicio sólo necesitarás el conjunto de entrenamiento por lo que puedes ignorar la segunda tupla.\n",
    "\n",
    "<details><summary><font size=\"2\" color=\"darkblue\"><b> Texto Original </b></font></summary>\n",
    "\n",
    "## Load the data\n",
    "\n",
    "Begin by loading the data. A couple of things to notice:\n",
    "\n",
    "- The file `mnist.npz` is already included in the current workspace under the `data` directory. By default the `load_data` from Keras accepts a path relative to `~/.keras/datasets` but in this case it is stored somewhere else, as a result of this, you need to specify the full path.\n",
    "\n",
    "- `load_data` returns the train and test sets in the form of the tuples `(x_train, y_train), (x_test, y_test)` but in this exercise you will be needing only the train set so you can ignore the second tuple."
   ]
  },
  {
   "cell_type": "code",
   "execution_count": null,
   "metadata": {
    "tags": [
     "graded"
    ]
   },
   "outputs": [],
   "source": [
    "# Cargar los datos\n",
    "\n",
    "# Obtener el directorio de trabajo actual\n",
    "current_dir = os.getcwd() \n",
    "\n",
    "# Añadir data/mnist.npz a la ruta anterior para obtener la ruta completa\n",
    "data_path = os.path.join(current_dir, \"data/mnist.npz\") \n",
    "\n",
    "# Obtener sólo el conjunto de entrenamiento\n",
    "(training_images, training_labels), _ = tf.keras.datasets.mnist.load_data(path=data_path) "
   ]
  },
  {
   "cell_type": "markdown",
   "metadata": {},
   "source": [
    "## Preprocesamiento de los datos\n",
    "\n",
    "Un paso importante cuando se trata de datos de imágenes es preprocesar los datos. Durante el paso de preprocesamiento puedes aplicar transformaciones al conjunto de datos que serán introducidos en tu red neuronal convolucional.\n",
    "\n",
    "Aquí aplicaremos dos transformaciones a los datos:\n",
    "- Reformar los datos para que tengan una dimensión extra. La razón de esto \n",
    "es que comúnmente usted usará arreglos de 3 dimensiones (sin contar la dimensión del lote) para representar los datos de la imagen. La tercera dimensión representa el color usando valores RGB. Estos datos pueden estar en formato blanco y negro, por lo que la tercera dimensión no añade realmente ninguna información adicional para el proceso de clasificación, pero es una buena práctica de todos modos.\n",
    "\n",
    "\n",
    "- Normalice los valores de los píxeles para que sean valores entre 0 y 1. Puede conseguirlo dividiendo cada valor del array por el máximo.\n",
    "\n",
    "Recuerda que estos tensores son de tipo `numpy.ndarray` por lo que puedes utilizar funciones como [reshape](https://numpy.org/doc/stable/reference/generated/numpy.reshape.html) o [divide](https://numpy.org/doc/stable/reference/generated/numpy.divide.html) para completar la función `reshape_and_normalize` que aparece a continuación:\n",
    "\n",
    "<details><summary><font size=\"2\" color=\"darkblue\"><b> Texto Original </b></font></summary>\n",
    "\n",
    "## Pre-processing the data\n",
    "\n",
    "One important step when dealing with image data is to preprocess the data. During the preprocess step you can apply transformations to the dataset that will be fed into your convolutional neural network.\n",
    "\n",
    "Here you will apply two transformations to the data:\n",
    "- Reshape the data so that it has an extra dimension. The reason for this \n",
    "is that commonly you will use 3-dimensional arrays (without counting the batch dimension) to represent image data. The third dimension represents the color using RGB values. This data might be in black and white format so the third dimension doesn't really add any additional information for the classification process but it is a good practice regardless.\n",
    "\n",
    "\n",
    "- Normalize the pixel values so that these are values between 0 and 1. You can achieve this by dividing every value in the array by the maximum.\n",
    "\n",
    "Remember that these tensors are of type `numpy.ndarray` so you can use functions like [reshape](https://numpy.org/doc/stable/reference/generated/numpy.reshape.html) or [divide](https://numpy.org/doc/stable/reference/generated/numpy.divide.html) to complete the `reshape_and_normalize` function below:"
   ]
  },
  {
   "cell_type": "code",
   "execution_count": null,
   "metadata": {
    "tags": [
     "graded"
    ]
   },
   "outputs": [],
   "source": [
    "# GRADED FUNCTION: reshape_and_normalize\n",
    "\n",
    "def reshape_and_normalize(images):\n",
    "    \n",
    "    ### START CODE HERE\n",
    "\n",
    "    # Rehacer las imágenes para añadir una dimensión extra\n",
    "    images = None\n",
    "    \n",
    "    # Normalizar los valores de los píxeles\n",
    "    images = None\n",
    "    \n",
    "    ### END CODE HERE\n",
    "\n",
    "    return images"
   ]
  },
  {
   "cell_type": "markdown",
   "metadata": {},
   "source": [
    "Prueba tu función con la siguiente celda:\n",
    "\n",
    "<details><summary><font size=\"2\" color=\"darkblue\"><b> Texto Original </b></font></summary>\n",
    "\n",
    "Test your function with the next cell:"
   ]
  },
  {
   "cell_type": "code",
   "execution_count": null,
   "metadata": {
    "tags": [
     "graded"
    ]
   },
   "outputs": [],
   "source": [
    "# Recarga las imágenes en caso de que ejecutes esta celda varias veces\n",
    "(training_images, _), _ = tf.keras.datasets.mnist.load_data(path=data_path) \n",
    "\n",
    "# Aplicar su función\n",
    "training_images = reshape_and_normalize(training_images)\n",
    "\n",
    "print(f\"Maximum pixel value after normalization: {np.max(training_images)}\\n\")\n",
    "print(f\"Shape of training set after reshaping: {training_images.shape}\\n\")\n",
    "print(f\"Shape of one image after reshaping: {training_images[0].shape}\")\n"
   ]
  },
  {
   "cell_type": "markdown",
   "metadata": {},
   "source": [
    "**Salida esperada:**\n",
    "```\n",
    "Valor máximo del píxel después de la normalización: 1.0\n",
    "\n",
    "Forma del conjunto de entrenamiento después de la remodelación: (60000, 28, 28, 1)\n",
    "\n",
    "Forma de una imagen después de la remodelación: (28, 28, 1)\n",
    "```\n",
    "\n",
    "<details><summary><font size=\"2\" color=\"darkblue\"><b> Texto Original </b></font></summary>\n",
    "\n",
    "**Expected Output:**\n",
    "```\n",
    "Maximum pixel value after normalization: 1.0\n",
    "\n",
    "Shape of training set after reshaping: (60000, 28, 28, 1)\n",
    "\n",
    "Shape of one image after reshaping: (28, 28, 1)\n",
    "```"
   ]
  },
  {
   "cell_type": "markdown",
   "metadata": {},
   "source": [
    "## Definición de la llamada de retorno\n",
    "\n",
    "Ahora complete la llamada de retorno que asegurará que el entrenamiento se detenga después de alcanzar una precisión del 99,5%:\n",
    "\n",
    "<details><summary><font size=\"2\" color=\"darkblue\"><b> Texto Original </b></font></summary>\n",
    "\n",
    "## Defining your callback\n",
    "\n",
    "Now complete the callback that will ensure that training will stop after an accuracy of 99.5% is reached:"
   ]
  },
  {
   "cell_type": "code",
   "execution_count": null,
   "metadata": {
    "tags": [
     "graded"
    ]
   },
   "outputs": [],
   "source": [
    "# GRADED CLASS: myCallback\n",
    "### START CODE HERE\n",
    "\n",
    "# Recuerda heredar de la clase correcta\n",
    "class myCallback():\n",
    "    # Define el método que comprueba la precisión al final de cada época\n",
    "    pass\n",
    "\n",
    "### END CODE HERE\n"
   ]
  },
  {
   "cell_type": "markdown",
   "metadata": {},
   "source": [
    "## Modelo Convolucional\n",
    "\n",
    "Finalmente, completa la función `convolutional_model` que aparece a continuación. Esta función debería devolver tu red neuronal convolucional.\n",
    "\n",
    "**Tu modelo debe alcanzar una precisión del 99,5% o más antes de 10 épocas para aprobar esta tarea.**\n",
    "\n",
    "**Pistas:**\n",
    "- Puedes probar cualquier arquitectura para la red pero intenta tener en cuenta que no necesitas una compleja. Por ejemplo, sólo se necesita una capa convolucional. \n",
    "\n",
    "- En caso de que necesites ayuda extra puedes ver una arquitectura que funciona bastante bien al final de este cuaderno.\n",
    "\n",
    "<details><summary><font size=\"2\" color=\"darkblue\"><b> Texto Original </b></font></summary>\n",
    "\n",
    "## Convolutional Model\n",
    "\n",
    "Finally, complete the `convolutional_model` function below. This function should return your convolutional neural network.\n",
    "\n",
    "**Your model should achieve an accuracy of 99.5% or more before 10 epochs to pass this assignment.**\n",
    "\n",
    "**Hints:**\n",
    "- You can try any architecture for the network but try to keep in mind you don't need a complex one. For instance, only one convolutional layer is needed. \n",
    "\n",
    "- In case you need extra help you can check out an architecture that works pretty well at the end of this notebook."
   ]
  },
  {
   "cell_type": "code",
   "execution_count": null,
   "metadata": {
    "tags": [
     "graded"
    ]
   },
   "outputs": [],
   "source": [
    "# GRADED FUNCTION: convolutional_model\n",
    "def convolutional_model():\n",
    "    ### START CODE HERE\n",
    "\n",
    "    # Definir el modelo\n",
    "    model = tf.keras.models.Sequential([ \n",
    "      None,\n",
    "    ]) \n",
    "\n",
    "    ### END CODE HERE\n",
    "\n",
    "    # Compilar el modelo\n",
    "    model.compile(optimizer='adam', \n",
    "                  loss='sparse_categorical_crossentropy', \n",
    "                  metrics=['accuracy']) \n",
    "        \n",
    "    return model"
   ]
  },
  {
   "cell_type": "code",
   "execution_count": null,
   "metadata": {
    "tags": [
     "graded"
    ]
   },
   "outputs": [],
   "source": [
    "# Guarda tu modelo no entrenado\n",
    "model = convolutional_model()\n",
    "\n",
    "# Instanciar la clase callback\n",
    "callbacks = myCallback()\n",
    "\n",
    "# Entrena tu modelo (esto puede llevar hasta 5 minutos)\n",
    "history = model.fit(training_images, training_labels, epochs=10, callbacks=[callbacks])"
   ]
  },
  {
   "cell_type": "markdown",
   "metadata": {},
   "source": [
    "Si ve el mensaje que definió en su callback impreso después de menos de 10 épocas, significa que su callback funcionó como se esperaba. También puede comprobarlo ejecutando la siguiente celda:\n",
    "\n",
    "<details><summary><font size=\"2\" color=\"darkblue\"><b> Texto Original </b></font></summary>\n",
    "\n",
    "If you see the message that you defined in your callback printed out after less than 10 epochs it means your callback worked as expected. You can also double check by running the following cell:"
   ]
  },
  {
   "cell_type": "code",
   "execution_count": null,
   "metadata": {
    "tags": [
     "graded"
    ]
   },
   "outputs": [],
   "source": [
    "print(f\"Your model was trained for {len(history.epoch)} epochs\")"
   ]
  },
  {
   "cell_type": "markdown",
   "metadata": {},
   "source": [
    "## ¿Necesitas más ayuda?\n",
    "\n",
    "Ejecute la siguiente celda para ver una arquitectura que funciona bien para el problema en cuestión:\n",
    "\n",
    "<details><summary><font size=\"2\" color=\"darkblue\"><b> Texto Original </b></font></summary>\n",
    "\n",
    "## Need more help?\n",
    "\n",
    "Run the following cell to see an architecture that works well for the problem at hand:"
   ]
  },
  {
   "cell_type": "code",
   "execution_count": null,
   "metadata": {},
   "outputs": [],
   "source": [
    "# LE RECOMENDAMOS ENCARECIDAMENTE QUE PRUEBE PRIMERO SUS PROPIAS ARQUITECTURAS\n",
    "# Y SÓLO EJECUTE ESTA CELDA SI DESEA VER UNA RESPUESTA\n",
    "\n",
    "import base64\n",
    "\n",
    "encoded_answer = \"CiAgIC0gQSBDb252MkQgbGF5ZXIgd2l0aCAzMiBmaWx0ZXJzLCBhIGtlcm5lbF9zaXplIG9mIDN4MywgUmVMVSBhY3RpdmF0aW9uIGZ1bmN0aW9uIGFuZCBhbiBpbnB1dCBzaGFwZSB0aGF0IG1hdGNoZXMgdGhhdCBvZiBldmVyeSBpbWFnZSBpbiB0aGUgdHJhaW5pbmcgc2V0CiAgIC0gQSBNYXhQb29saW5nMkQgbGF5ZXIgd2l0aCBhIHBvb2xfc2l6ZSBvZiAyeDIKICAgLSBBIEZsYXR0ZW4gbGF5ZXIgd2l0aCBubyBhcmd1bWVudHMKICAgLSBBIERlbnNlIGxheWVyIHdpdGggMTI4IHVuaXRzIGFuZCBSZUxVIGFjdGl2YXRpb24gZnVuY3Rpb24KICAgLSBBIERlbnNlIGxheWVyIHdpdGggMTAgdW5pdHMgYW5kIHNvZnRtYXggYWN0aXZhdGlvbiBmdW5jdGlvbgo=\"\n",
    "encoded_answer = encoded_answer.encode('ascii')\n",
    "answer = base64.b64decode(encoded_answer)\n",
    "answer = answer.decode('ascii')\n",
    "\n",
    "print(answer)"
   ]
  },
  {
   "cell_type": "markdown",
   "metadata": {},
   "source": [
    "**Felicitaciones por haber terminado la tarea de esta semana.**\n",
    "\n",
    "Has implementado con éxito una CNN para ayudarte en la tarea de clasificación de imágenes. Buen trabajo.\n",
    "\n",
    "**Sigue así.**\n",
    "\n",
    "<details><summary><font size=\"2\" color=\"darkblue\"><b> Texto Original </b></font></summary>\n",
    "\n",
    "**Congratulations on finishing this week's assignment!**\n",
    "\n",
    "You have successfully implemented a CNN to assist you in the image classification task. Nice job!\n",
    "\n",
    "**Keep it up!**"
   ]
  }
 ],
 "metadata": {
  "jupytext": {
   "main_language": "python"
  },
  "kernelspec": {
   "display_name": "Python 3",
   "language": "python",
   "name": "python3"
  },
  "language_info": {
   "codemirror_mode": {
    "name": "ipython",
    "version": 3
   },
   "file_extension": ".py",
   "mimetype": "text/x-python",
   "name": "python",
   "nbconvert_exporter": "python",
   "pygments_lexer": "ipython3",
   "version": "3.7.3"
  }
 },
 "nbformat": 4,
 "nbformat_minor": 4
}
